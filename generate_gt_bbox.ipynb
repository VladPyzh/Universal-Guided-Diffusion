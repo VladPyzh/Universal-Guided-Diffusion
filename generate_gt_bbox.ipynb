{
 "cells": [
  {
   "cell_type": "code",
   "execution_count": 64,
   "metadata": {},
   "outputs": [],
   "source": [
    "from PIL import Image\n",
    "from torchvision.transforms.functional import pil_to_tensor\n",
    "import matplotlib.pyplot as plt\n",
    "import torch\n",
    "from glob import glob\n",
    "from collections import defaultdict\n",
    "import json"
   ]
  },
  {
   "cell_type": "code",
   "execution_count": 51,
   "metadata": {},
   "outputs": [],
   "source": [
    "def get_bounding_box(binary_mask):\n",
    "    # Find indices where the mask is non-zero\n",
    "    non_zero_indices = torch.nonzero(binary_mask)\n",
    "    \n",
    "    if non_zero_indices.numel() == 0:\n",
    "        return None\n",
    "    \n",
    "    # Calculate minimum and maximum coordinates\n",
    "    y_min, x_min = non_zero_indices.min(dim=0).values\n",
    "    y_max, x_max = non_zero_indices.max(dim=0).values\n",
    "    \n",
    "    return (x_min.item(), y_min.item(), x_max.item(), y_max.item())\n",
    "\n",
    "\n",
    "def visualize_bounding_box(image, bounding_box, ax=None):\n",
    "    if torch.is_tensor(image):\n",
    "        image = image.squeeze().cpu().numpy()\n",
    "    \n",
    "    if ax is None:\n",
    "        fig, ax = plt.subplots(figsize=(10, 10))\n",
    "    \n",
    "    # Display the image\n",
    "    ax.imshow(image, cmap='gray' if image.ndim == 2 else None)\n",
    "    \n",
    "    # Extract bounding box coordinates\n",
    "    x_min, y_min, x_max, y_max = bounding_box\n",
    "    \n",
    "    # Calculate width and height of the box\n",
    "    width = x_max - x_min\n",
    "    height = y_max - y_min\n",
    "    \n",
    "    # Create a Rectangle patch\n",
    "    rect = plt.Rectangle(\n",
    "        (x_min, y_min),  # lower left corner\n",
    "        width, \n",
    "        height, \n",
    "        fill=False,  # don't fill the rectangle\n",
    "        edgecolor='red',  # color of the rectangle border\n",
    "        linewidth=2  # thickness of the rectangle border\n",
    "    )\n",
    "    \n",
    "    # Add the rectangle to the Axes\n",
    "    ax.add_patch(rect)\n",
    "    \n",
    "    # Set title and adjust layout\n",
    "    ax.set_title('Image with Bounding Box')\n",
    "    plt.tight_layout()\n",
    "    \n",
    "    return ax"
   ]
  },
  {
   "cell_type": "code",
   "execution_count": 61,
   "metadata": {},
   "outputs": [],
   "source": [
    "mask_paths = glob(\"./processed_data/*/*_mask.jpg\")\n",
    "bbox_annotations = defaultdict(list)\n",
    "\n",
    "for path in mask_paths:\n",
    "    mask = Image.open(path).convert('L')\n",
    "    mask = pil_to_tensor(mask).squeeze(0)\n",
    "    mask = (mask > 100).to(torch.uint8)\n",
    "    \n",
    "    bbox = get_bounding_box(mask)\n",
    "\n",
    "    # Save results for bbox\n",
    "    label = path.split(\"/\")[2]\n",
    "    eval_id = path.split(\"/\")[-1].split(\"_\")[0]\n",
    "\n",
    "    bbox_annotations[label].append((eval_id, list(bbox)))"
   ]
  },
  {
   "cell_type": "code",
   "execution_count": 68,
   "metadata": {},
   "outputs": [],
   "source": [
    "for label, annotations in bbox_annotations.items():\n",
    "    label_annotations = {\n",
    "        annotation[0]: annotation[1]\n",
    "        for annotation in annotations\n",
    "    }\n",
    "\n",
    "    # Save annotation\n",
    "    path = f\"./processed_data/{label}/bbox_annotations.json\"\n",
    "\n",
    "    with open(path, \"w\") as f:\n",
    "        json.dump(label_annotations, f, indent=4)"
   ]
  }
 ],
 "metadata": {
  "kernelspec": {
   "display_name": "Python3 (ipykernel)",
   "language": "python",
   "name": "python3"
  },
  "language_info": {
   "codemirror_mode": {
    "name": "ipython",
    "version": 3
   },
   "file_extension": ".py",
   "mimetype": "text/x-python",
   "name": "python",
   "nbconvert_exporter": "python",
   "pygments_lexer": "ipython3",
   "version": "3.10.12"
  }
 },
 "nbformat": 4,
 "nbformat_minor": 4
}
